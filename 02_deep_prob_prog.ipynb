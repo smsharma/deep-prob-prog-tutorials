{
 "cells": [
  {
   "cell_type": "code",
   "execution_count": 1,
   "metadata": {
    "colab": {
     "base_uri": "https://localhost:8080/"
    },
    "id": "H5zZf2FD0-Pg",
    "outputId": "3c9289d9-2ff7-4395-ac2e-ee070f9d76c3"
   },
   "outputs": [
    {
     "name": "stdout",
     "output_type": "stream",
     "text": [
      "Looking in indexes: https://pypi.org/simple, https://us-python.pkg.dev/colab-wheels/public/simple/\n",
      "Requirement already satisfied: flax in /usr/local/lib/python3.7/dist-packages (0.5.2)\n",
      "Requirement already satisfied: rich~=11.1 in /usr/local/lib/python3.7/dist-packages (from flax) (11.2.0)\n",
      "Requirement already satisfied: typing-extensions>=4.1.1 in /usr/local/lib/python3.7/dist-packages (from flax) (4.1.1)\n",
      "Requirement already satisfied: matplotlib in /usr/local/lib/python3.7/dist-packages (from flax) (3.2.2)\n",
      "Requirement already satisfied: PyYAML>=5.4.1 in /usr/local/lib/python3.7/dist-packages (from flax) (6.0)\n",
      "Requirement already satisfied: optax in /usr/local/lib/python3.7/dist-packages (from flax) (0.1.3)\n",
      "Requirement already satisfied: msgpack in /usr/local/lib/python3.7/dist-packages (from flax) (1.0.4)\n",
      "Requirement already satisfied: numpy>=1.12 in /usr/local/lib/python3.7/dist-packages (from flax) (1.21.6)\n",
      "Requirement already satisfied: jax>=0.3.2 in /usr/local/lib/python3.7/dist-packages (from flax) (0.3.14)\n",
      "Requirement already satisfied: opt-einsum in /usr/local/lib/python3.7/dist-packages (from jax>=0.3.2->flax) (3.3.0)\n",
      "Requirement already satisfied: scipy>=1.5 in /usr/local/lib/python3.7/dist-packages (from jax>=0.3.2->flax) (1.7.3)\n",
      "Requirement already satisfied: etils[epath] in /usr/local/lib/python3.7/dist-packages (from jax>=0.3.2->flax) (0.6.0)\n",
      "Requirement already satisfied: absl-py in /usr/local/lib/python3.7/dist-packages (from jax>=0.3.2->flax) (1.1.0)\n",
      "Requirement already satisfied: commonmark<0.10.0,>=0.9.0 in /usr/local/lib/python3.7/dist-packages (from rich~=11.1->flax) (0.9.1)\n",
      "Requirement already satisfied: pygments<3.0.0,>=2.6.0 in /usr/local/lib/python3.7/dist-packages (from rich~=11.1->flax) (2.6.1)\n",
      "Requirement already satisfied: colorama<0.5.0,>=0.4.0 in /usr/local/lib/python3.7/dist-packages (from rich~=11.1->flax) (0.4.5)\n",
      "Requirement already satisfied: importlib_resources in /usr/local/lib/python3.7/dist-packages (from etils[epath]->jax>=0.3.2->flax) (5.8.0)\n",
      "Requirement already satisfied: zipp in /usr/local/lib/python3.7/dist-packages (from etils[epath]->jax>=0.3.2->flax) (3.8.0)\n",
      "Requirement already satisfied: pyparsing!=2.0.4,!=2.1.2,!=2.1.6,>=2.0.1 in /usr/local/lib/python3.7/dist-packages (from matplotlib->flax) (3.0.9)\n",
      "Requirement already satisfied: kiwisolver>=1.0.1 in /usr/local/lib/python3.7/dist-packages (from matplotlib->flax) (1.4.3)\n",
      "Requirement already satisfied: cycler>=0.10 in /usr/local/lib/python3.7/dist-packages (from matplotlib->flax) (0.11.0)\n",
      "Requirement already satisfied: python-dateutil>=2.1 in /usr/local/lib/python3.7/dist-packages (from matplotlib->flax) (2.8.2)\n",
      "Requirement already satisfied: six>=1.5 in /usr/local/lib/python3.7/dist-packages (from python-dateutil>=2.1->matplotlib->flax) (1.15.0)\n",
      "Requirement already satisfied: jaxlib>=0.1.37 in /usr/local/lib/python3.7/dist-packages (from optax->flax) (0.3.14+cuda11.cudnn805)\n",
      "Requirement already satisfied: chex>=0.0.4 in /usr/local/lib/python3.7/dist-packages (from optax->flax) (0.1.3)\n",
      "Requirement already satisfied: toolz>=0.9.0 in /usr/local/lib/python3.7/dist-packages (from chex>=0.0.4->optax->flax) (0.12.0)\n",
      "Requirement already satisfied: dm-tree>=0.1.5 in /usr/local/lib/python3.7/dist-packages (from chex>=0.0.4->optax->flax) (0.1.7)\n",
      "Requirement already satisfied: flatbuffers<3.0,>=1.12 in /usr/local/lib/python3.7/dist-packages (from jaxlib>=0.1.37->optax->flax) (2.0)\n"
     ]
    }
   ],
   "source": [
    "! pip install flax"
   ]
  },
  {
   "cell_type": "code",
   "execution_count": 2,
   "metadata": {
    "id": "pcP0o9uy07QV"
   },
   "outputs": [],
   "source": [
    "import jax.numpy as jnp\n",
    "import jax\n",
    "from jax import random\n",
    "import numpy as np\n",
    "\n",
    "from flax import linen as nn\n",
    "from flax.training import train_state\n",
    "\n",
    "import optax"
   ]
  },
  {
   "cell_type": "code",
   "execution_count": 3,
   "metadata": {
    "id": "4FXYu2XC2Fec"
   },
   "outputs": [],
   "source": [
    "import tensorflow as tf\n",
    "import tensorflow_datasets as tfds"
   ]
  },
  {
   "cell_type": "code",
   "execution_count": 4,
   "metadata": {
    "id": "xPBU1mRJ1bB_"
   },
   "outputs": [],
   "source": [
    "latents = 128\n",
    "num_epochs = 50\n",
    "batch_size = 128\n",
    "learning_rate = 1e-3"
   ]
  },
  {
   "cell_type": "code",
   "execution_count": 5,
   "metadata": {
    "id": "-9t9Tc9A1Opc"
   },
   "outputs": [],
   "source": [
    "# class Encoder(nn.Module):\n",
    "#     latents: int\n",
    "\n",
    "#     @nn.compact\n",
    "#     def __call__(self, x):\n",
    "#         x = nn.Dense(500, name='fc1')(x)\n",
    "#         x = nn.relu(x)\n",
    "#         mean_x = nn.Dense(self.latents, name='fc2_mean')(x)\n",
    "#         logvar_x = nn.Dense(self.latents, name='fc2_logvar')(x)\n",
    "#         return mean_x, logvar_x\n",
    "\n",
    "class Decoder(nn.Module):\n",
    "\n",
    "    @nn.compact\n",
    "    def __call__(self, z):\n",
    "        z = nn.Dense(500, name='fc1')(z)\n",
    "        z = nn.relu(z)\n",
    "        z = nn.Dense(784, name='fc2')(z)\n",
    "        return z\n",
    "\n",
    "class Encoder(nn.Module):\n",
    "    c_hid : int = 32\n",
    "    latents : int = 128\n",
    "\n",
    "    @nn.compact\n",
    "    def __call__(self, x):\n",
    "        x = nn.Conv(features=self.c_hid, kernel_size=(3, 3), strides=2)(x) \n",
    "        x = nn.relu(x)\n",
    "        x = nn.Conv(features=2 * self.c_hid, kernel_size=(3, 3), strides=2)(x)\n",
    "        x = nn.relu(x)\n",
    "        x = x.reshape(x.shape[0], -1)  # Flatten to single feature vector\n",
    "        mean_x = nn.Dense(self.latents)(x)\n",
    "        logvar_x = nn.Dense(self.latents)(x)\n",
    "        return mean_x, logvar_x\n",
    "\n",
    "class Decoder(nn.Module):\n",
    "    c_out : int = 1\n",
    "    c_hid : int = 32\n",
    "\n",
    "    @nn.compact\n",
    "    def __call__(self, x):\n",
    "        x = nn.Dense(features=7 * 7 *self.c_hid)(x)\n",
    "        x = nn.gelu(x)\n",
    "        x = x.reshape(x.shape[0], 7, 7, -1)\n",
    "        x = nn.ConvTranspose(features=2 * self.c_hid, kernel_size=(3, 3), strides=(2, 2))(x)\n",
    "        x = nn.gelu(x)\n",
    "        x = nn.ConvTranspose(features=self.c_hid, kernel_size=(3, 3), strides=(2, 2))(x)\n",
    "        x = nn.gelu(x)\n",
    "        x = nn.ConvTranspose(features=self.c_out, kernel_size=(3, 3), strides=(1, 1))(x)\n",
    "        return x\n",
    "\n",
    "class VAE(nn.Module):\n",
    "    latents: int = 20\n",
    "\n",
    "    def setup(self):\n",
    "        self.encoder = Encoder(latents=self.latents)\n",
    "        self.decoder = Decoder()\n",
    "\n",
    "    def __call__(self, x, z_rng):\n",
    "        mean, logvar = self.encoder(x)\n",
    "        z = reparameterize(z_rng, mean, logvar)\n",
    "        recon_x = self.decoder(z)\n",
    "        return recon_x, mean, logvar\n",
    "\n",
    "    def generate(self, z):\n",
    "        return nn.sigmoid(self.decoder(z))\n",
    "\n",
    "\n",
    "def reparameterize(rng, mean, logvar):\n",
    "    std = jnp.exp(0.5 * logvar)\n",
    "    eps = random.normal(rng, logvar.shape)\n",
    "    return mean + eps * std\n",
    "\n",
    "@jax.vmap\n",
    "def kl_divergence(mean, logvar):\n",
    "    return -0.5 * jnp.sum(1 + logvar - jnp.square(mean) - jnp.exp(logvar))\n",
    "\n",
    "@jax.vmap\n",
    "def binary_cross_entropy_with_logits(logits, labels):\n",
    "    logits = nn.log_sigmoid(logits)\n",
    "    return -jnp.sum(labels * logits + (1. - labels) * jnp.log(-jnp.expm1(logits)))\n",
    "\n",
    "\n",
    "def compute_metrics(recon_x, x, mean, logvar):\n",
    "    bce_loss = binary_cross_entropy_with_logits(recon_x, x).mean()\n",
    "    kld_loss = kl_divergence(mean, logvar).mean()\n",
    "    return {\n",
    "      'bce': bce_loss,\n",
    "      'kld': kld_loss,\n",
    "      'loss': bce_loss + kld_loss\n",
    "    }\n",
    "\n",
    "def model():\n",
    "    return VAE(latents=latents)\n"
   ]
  },
  {
   "cell_type": "code",
   "execution_count": 6,
   "metadata": {
    "id": "Ts8nj5W11Rjb"
   },
   "outputs": [],
   "source": [
    "@jax.jit\n",
    "def train_step(state, batch, z_rng):\n",
    "  def loss_fn(params):\n",
    "    recon_x, mean, logvar = model().apply({'params': params}, batch, z_rng)\n",
    "\n",
    "    bce_loss = binary_cross_entropy_with_logits(recon_x, batch).mean()\n",
    "    kld_loss = kl_divergence(mean, logvar).mean()\n",
    "    loss = bce_loss + kld_loss\n",
    "    return loss\n",
    "  grads = jax.grad(loss_fn)(state.params)\n",
    "  return state.apply_gradients(grads=grads)\n",
    "\n",
    "\n",
    "# @jax.jit\n",
    "# def eval(params, images, z, z_rng):\n",
    "#   def eval_model(vae):\n",
    "#     recon_images, mean, logvar = vae(images, z_rng)\n",
    "#     comparison = jnp.concatenate([images[:8].reshape(-1, 28, 28, 1),\n",
    "#                                   recon_images[:8].reshape(-1, 28, 28, 1)])\n",
    "\n",
    "#     generate_images = vae.generate(z)\n",
    "#     generate_images = generate_images.reshape(-1, 28, 28, 1)\n",
    "#     metrics = compute_metrics(recon_images, images, mean, logvar)\n",
    "#     return metrics, comparison, generate_images\n",
    "\n",
    "#   return nn.apply(eval_model, model())({'params': params})\n",
    "\n",
    "\n",
    "@jax.jit\n",
    "def eval(params, images, z, z_rng):\n",
    "  def eval_model(vae):\n",
    "    recon_images, mean, logvar = vae(images, z_rng)\n",
    "    comparison = jnp.concatenate([images[:8].reshape(-1, 28, 28, 1),\n",
    "                                  recon_images[:8].reshape(-1, 28, 28, 1)])\n",
    "\n",
    "    generate_images = vae.generate(z)\n",
    "    generate_images = generate_images.reshape(-1, 28, 28, 1)\n",
    "    metrics = compute_metrics(recon_images, images, mean, logvar)\n",
    "    return metrics, comparison, generate_images\n",
    "\n",
    "  return nn.apply(eval_model, model())({'params': params})\n",
    "\n",
    "def prepare_image(x):\n",
    "  x = tf.cast(x['image'], tf.float32)\n",
    "  # x = tf.reshape(x, (-1,))\n",
    "  return x"
   ]
  },
  {
   "cell_type": "code",
   "execution_count": 7,
   "metadata": {
    "id": "-X1mqUHA7Yt8"
   },
   "outputs": [],
   "source": [
    "# Make sure tf does not allocate gpu memory.\n",
    "tf.config.experimental.set_visible_devices([], 'GPU')\n",
    "\n",
    "rng = random.PRNGKey(0)\n",
    "rng, key = random.split(rng)\n",
    "\n",
    "ds_builder = tfds.builder('binarized_mnist')\n",
    "ds_builder.download_and_prepare()\n",
    "train_ds = ds_builder.as_dataset(split=tfds.Split.TRAIN)\n",
    "train_ds = train_ds.map(prepare_image)\n",
    "train_ds = train_ds.cache()\n",
    "train_ds = train_ds.repeat()\n",
    "train_ds = train_ds.shuffle(50000)\n",
    "train_ds = train_ds.batch(batch_size)\n",
    "train_ds = iter(tfds.as_numpy(train_ds))\n",
    "\n",
    "test_ds = ds_builder.as_dataset(split=tfds.Split.TEST)\n",
    "test_ds = test_ds.map(prepare_image).batch(10000)\n",
    "test_ds = np.array(list(test_ds)[0])\n",
    "test_ds = jax.device_put(test_ds)\n"
   ]
  },
  {
   "cell_type": "code",
   "execution_count": 8,
   "metadata": {
    "colab": {
     "base_uri": "https://localhost:8080/"
    },
    "id": "hiXoQxcc1_ow",
    "outputId": "a6dbb353-0751-419b-93ff-e393450a0f8a"
   },
   "outputs": [
    {
     "name": "stdout",
     "output_type": "stream",
     "text": [
      "eval epoch: 2, loss: 119.8892, BCE: 86.7981, KLD: 33.0911\n",
      "eval epoch: 3, loss: 112.1238, BCE: 80.4740, KLD: 31.6499\n",
      "eval epoch: 4, loss: 107.9409, BCE: 76.4232, KLD: 31.5177\n",
      "eval epoch: 5, loss: 105.1747, BCE: 73.3762, KLD: 31.7985\n",
      "eval epoch: 6, loss: 103.6083, BCE: 72.7858, KLD: 30.8225\n",
      "eval epoch: 7, loss: 102.5286, BCE: 72.1471, KLD: 30.3815\n",
      "eval epoch: 8, loss: 101.3283, BCE: 70.4642, KLD: 30.8641\n",
      "eval epoch: 9, loss: 100.7159, BCE: 69.9050, KLD: 30.8109\n",
      "eval epoch: 10, loss: 100.3642, BCE: 68.6687, KLD: 31.6955\n",
      "eval epoch: 11, loss: 99.6911, BCE: 68.3035, KLD: 31.3876\n",
      "eval epoch: 12, loss: 99.1876, BCE: 67.0684, KLD: 32.1191\n",
      "eval epoch: 13, loss: 98.8886, BCE: 67.7235, KLD: 31.1650\n",
      "eval epoch: 14, loss: 98.6167, BCE: 67.8765, KLD: 30.7402\n",
      "eval epoch: 15, loss: 98.3571, BCE: 67.0892, KLD: 31.2679\n",
      "eval epoch: 16, loss: 98.1799, BCE: 67.5425, KLD: 30.6374\n",
      "eval epoch: 17, loss: 97.8683, BCE: 67.0859, KLD: 30.7824\n",
      "eval epoch: 18, loss: 97.7834, BCE: 65.5452, KLD: 32.2382\n",
      "eval epoch: 19, loss: 97.5765, BCE: 66.1740, KLD: 31.4025\n",
      "eval epoch: 20, loss: 97.5475, BCE: 65.9679, KLD: 31.5796\n",
      "eval epoch: 21, loss: 97.2642, BCE: 66.1445, KLD: 31.1197\n",
      "eval epoch: 22, loss: 97.1139, BCE: 65.8306, KLD: 31.2833\n",
      "eval epoch: 23, loss: 97.0745, BCE: 66.4173, KLD: 30.6572\n",
      "eval epoch: 24, loss: 96.8319, BCE: 65.4893, KLD: 31.3426\n",
      "eval epoch: 25, loss: 96.7879, BCE: 66.5605, KLD: 30.2274\n",
      "eval epoch: 26, loss: 96.7138, BCE: 64.9589, KLD: 31.7549\n",
      "eval epoch: 27, loss: 96.5466, BCE: 65.1067, KLD: 31.4399\n",
      "eval epoch: 28, loss: 96.5869, BCE: 65.3681, KLD: 31.2188\n",
      "eval epoch: 29, loss: 96.4714, BCE: 66.0558, KLD: 30.4156\n",
      "eval epoch: 30, loss: 96.2894, BCE: 65.6322, KLD: 30.6571\n",
      "eval epoch: 31, loss: 96.4148, BCE: 65.3801, KLD: 31.0347\n",
      "eval epoch: 32, loss: 96.3340, BCE: 65.7951, KLD: 30.5389\n",
      "eval epoch: 33, loss: 96.0454, BCE: 65.1443, KLD: 30.9011\n",
      "eval epoch: 34, loss: 96.0755, BCE: 65.6581, KLD: 30.4174\n",
      "eval epoch: 35, loss: 95.9249, BCE: 65.4548, KLD: 30.4701\n",
      "eval epoch: 36, loss: 95.8548, BCE: 65.1806, KLD: 30.6743\n",
      "eval epoch: 37, loss: 95.8657, BCE: 64.9256, KLD: 30.9401\n",
      "eval epoch: 38, loss: 95.9042, BCE: 65.6397, KLD: 30.2645\n",
      "eval epoch: 39, loss: 95.7117, BCE: 65.5671, KLD: 30.1446\n",
      "eval epoch: 40, loss: 95.7174, BCE: 65.9466, KLD: 29.7708\n",
      "eval epoch: 41, loss: 95.5316, BCE: 64.9447, KLD: 30.5869\n",
      "eval epoch: 42, loss: 95.6563, BCE: 65.1166, KLD: 30.5397\n",
      "eval epoch: 43, loss: 95.5817, BCE: 65.1482, KLD: 30.4335\n",
      "eval epoch: 44, loss: 95.4380, BCE: 65.0312, KLD: 30.4069\n",
      "eval epoch: 45, loss: 95.4008, BCE: 65.3576, KLD: 30.0432\n",
      "eval epoch: 46, loss: 95.3654, BCE: 65.2854, KLD: 30.0800\n",
      "eval epoch: 47, loss: 95.3760, BCE: 65.1931, KLD: 30.1829\n",
      "eval epoch: 48, loss: 95.4016, BCE: 65.7433, KLD: 29.6582\n",
      "eval epoch: 49, loss: 95.3311, BCE: 64.5491, KLD: 30.7819\n",
      "eval epoch: 50, loss: 95.3168, BCE: 64.6155, KLD: 30.7013\n"
     ]
    }
   ],
   "source": [
    "init_data = jnp.ones((batch_size, 28, 28, 1), jnp.float32)\n",
    "\n",
    "state = train_state.TrainState.create(\n",
    "    apply_fn=model().apply,\n",
    "    params=model().init(key, init_data, rng)['params'],\n",
    "    tx=optax.adam(learning_rate),\n",
    ")\n",
    "\n",
    "rng, z_key, eval_rng = random.split(rng, 3)\n",
    "z = random.normal(z_key, (64, latents))\n",
    "\n",
    "steps_per_epoch = 50000 // batch_size\n",
    "\n",
    "for epoch in range(num_epochs):\n",
    "  for _ in range(steps_per_epoch):\n",
    "    batch = next(train_ds)\n",
    "    rng, key = random.split(rng)\n",
    "    state = train_step(state, batch, key)\n",
    "\n",
    "  metrics, comparison, sample = eval(state.params, test_ds, z, eval_rng)\n",
    "\n",
    "  print('eval epoch: {}, loss: {:.4f}, BCE: {:.4f}, KLD: {:.4f}'.format(\n",
    "      epoch + 1, metrics['loss'], metrics['bce'], metrics['kld']\n",
    "  ))"
   ]
  },
  {
   "cell_type": "code",
   "execution_count": 9,
   "metadata": {
    "id": "htw1ePNu2eTD"
   },
   "outputs": [],
   "source": [
    "rng = jax.random.PRNGKey(1)\n",
    "rng, z_key, eval_rng = random.split(rng, 3)\n",
    "z = jax.random.normal(z_key, (16, latents))"
   ]
  },
  {
   "cell_type": "code",
   "execution_count": 10,
   "metadata": {
    "id": "fLgcO2rH56nv"
   },
   "outputs": [],
   "source": [
    "metrics, comparison, sample = eval(state.params, test_ds, z, eval_rng)"
   ]
  },
  {
   "cell_type": "code",
   "execution_count": 11,
   "metadata": {
    "colab": {
     "base_uri": "https://localhost:8080/",
     "height": 1000
    },
    "id": "7-1kZG5j6HD2",
    "outputId": "f69f51a3-4ba6-4012-ff5b-12504dcf2c32"
   },
   "outputs": [
    {
     "data": {
      "image/png": "[encoded data removed]",
      "text/plain": [
       "<Figure size 432x288 with 1 Axes>"
      ]
     },
     "metadata": {
      "needs_background": "light"
     },
     "output_type": "display_data"
    },
    {
     "data": {
      "image/png": "[encoded data removed]",
      "text/plain": [
       "<Figure size 432x288 with 1 Axes>"
      ]
     },
     "metadata": {
      "needs_background": "light"
     },
     "output_type": "display_data"
    },
    {
     "data": {
      "image/png": "[encoded data removed]",
      "text/plain": [
       "<Figure size 432x288 with 1 Axes>"
      ]
     },
     "metadata": {
      "needs_background": "light"
     },
     "output_type": "display_data"
    },
    {
     "data": {
      "image/png": "[encoded data removed]",
      "text/plain": [
       "<Figure size 432x288 with 1 Axes>"
      ]
     },
     "metadata": {
      "needs_background": "light"
     },
     "output_type": "display_data"
    },
    {
     "data": {
      "image/png": "[encoded data removed]",
      "text/plain": [
       "<Figure size 432x288 with 1 Axes>"
      ]
     },
     "metadata": {
      "needs_background": "light"
     },
     "output_type": "display_data"
    },
    {
     "data": {
      "image/png": "[encoded data removed]",
      "text/plain": [
       "<Figure size 432x288 with 1 Axes>"
      ]
     },
     "metadata": {
      "needs_background": "light"
     },
     "output_type": "display_data"
    },
    {
     "data": {
      "image/png": "[encoded data removed]",
      "text/plain": [
       "<Figure size 432x288 with 1 Axes>"
      ]
     },
     "metadata": {
      "needs_background": "light"
     },
     "output_type": "display_data"
    },
    {
     "data": {
      "image/png": "[encoded data removed]",
      "text/plain": [
       "<Figure size 432x288 with 1 Axes>"
      ]
     },
     "metadata": {
      "needs_background": "light"
     },
     "output_type": "display_data"
    },
    {
     "data": {
      "image/png": "[encoded data removed]",
      "text/plain": [
       "<Figure size 432x288 with 1 Axes>"
      ]
     },
     "metadata": {
      "needs_background": "light"
     },
     "output_type": "display_data"
    },
    {
     "data": {
      "image/png": "[encoded data removed]",
      "text/plain": [
       "<Figure size 432x288 with 1 Axes>"
      ]
     },
     "metadata": {
      "needs_background": "light"
     },
     "output_type": "display_data"
    },
    {
     "data": {
      "image/png": "[encoded data removed]",
      "text/plain": [
       "<Figure size 432x288 with 1 Axes>"
      ]
     },
     "metadata": {
      "needs_background": "light"
     },
     "output_type": "display_data"
    },
    {
     "data": {
      "image/png": "[encoded data removed]",
      "text/plain": [
       "<Figure size 432x288 with 1 Axes>"
      ]
     },
     "metadata": {
      "needs_background": "light"
     },
     "output_type": "display_data"
    },
    {
     "data": {
      "image/png": "[encoded data removed]",
      "text/plain": [
       "<Figure size 432x288 with 1 Axes>"
      ]
     },
     "metadata": {
      "needs_background": "light"
     },
     "output_type": "display_data"
    },
    {
     "data": {
      "image/png": "[encoded data removed]",
      "text/plain": [
       "<Figure size 432x288 with 1 Axes>"
      ]
     },
     "metadata": {
      "needs_background": "light"
     },
     "output_type": "display_data"
    },
    {
     "data": {
      "image/png": "[encoded data removed]",
      "text/plain": [
       "<Figure size 432x288 with 1 Axes>"
      ]
     },
     "metadata": {
      "needs_background": "light"
     },
     "output_type": "display_data"
    },
    {
     "data": {
      "image/png": "[encoded data removed]",
      "text/plain": [
       "<Figure size 432x288 with 1 Axes>"
      ]
     },
     "metadata": {
      "needs_background": "light"
     },
     "output_type": "display_data"
    }
   ],
   "source": [
    "import matplotlib.pyplot as plt\n",
    "\n",
    "for i in range(16):\n",
    "  plt.imshow(sample[i, :, :, 0])\n",
    "  plt.show()"
   ]
  },
  {
   "cell_type": "code",
   "execution_count": null,
   "metadata": {
    "id": "xcwn9TtY6InW"
   },
   "outputs": [],
   "source": [
    ")"
   ]
  }
 ],
 "metadata": {
  "accelerator": "GPU",
  "colab": {
   "collapsed_sections": [],
   "name": "Untitled2.ipynb",
   "provenance": []
  },
  "gpuClass": "standard",
  "kernelspec": {
   "display_name": "Python 3",
   "language": "python",
   "name": "python3"
  },
  "language_info": {
   "codemirror_mode": {
    "name": "ipython",
    "version": 3
   },
   "file_extension": ".py",
   "mimetype": "text/x-python",
   "name": "python",
   "nbconvert_exporter": "python",
   "pygments_lexer": "ipython3",
   "version": "3.8.5"
  }
 },
 "nbformat": 4,
 "nbformat_minor": 4
}
