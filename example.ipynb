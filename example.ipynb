{
  "nbformat": 4,
  "nbformat_minor": 0,
  "metadata": {
    "colab": {
      "name": "example.ipynb",
      "provenance": [],
      "collapsed_sections": [],
      "authorship_tag": "ABX9TyPQfq8sBIN8iDrHY/E8WegN",
      "include_colab_link": true
    },
    "kernelspec": {
      "name": "python3",
      "display_name": "Python 3"
    },
    "language_info": {
      "name": "python"
    }
  },
  "cells": [
    {
      "cell_type": "markdown",
      "metadata": {
        "id": "view-in-github",
        "colab_type": "text"
      },
      "source": [
        "<a href=\"https://colab.research.google.com/github/smsharma/iaifi-summer-school-tutorials/blob/main/example.ipynb\" target=\"_parent\"><img src=\"https://colab.research.google.com/assets/colab-badge.svg\" alt=\"Open In Colab\"/></a>"
      ]
    },
    {
      "cell_type": "code",
      "execution_count": null,
      "metadata": {
        "id": "rIfpJT_sFTCZ"
      },
      "outputs": [],
      "source": [
        "import numpy as np\n",
        "import jax.numpy as jnp\n",
        "import matplotlib.pyplot as plt"
      ]
    },
    {
      "cell_type": "code",
      "source": [
        "! pip install pytorch-lightning"
      ],
      "metadata": {
        "colab": {
          "base_uri": "https://localhost:8080/"
        },
        "id": "dQCydfuLI7tr",
        "outputId": "36c5a78a-e0cc-4e11-f82a-7037881f2a12"
      },
      "execution_count": null,
      "outputs": [
        {
          "output_type": "stream",
          "name": "stdout",
          "text": [
            "Looking in indexes: https://pypi.org/simple, https://us-python.pkg.dev/colab-wheels/public/simple/\n",
            "Collecting pytorch-lightning\n",
            "  Downloading pytorch_lightning-1.6.5-py3-none-any.whl (585 kB)\n",
            "\u001b[K     |████████████████████████████████| 585 kB 5.4 MB/s \n",
            "\u001b[?25hRequirement already satisfied: typing-extensions>=4.0.0 in /usr/local/lib/python3.7/dist-packages (from pytorch-lightning) (4.1.1)\n",
            "Collecting torchmetrics>=0.4.1\n",
            "  Downloading torchmetrics-0.9.3-py3-none-any.whl (419 kB)\n",
            "\u001b[K     |████████████████████████████████| 419 kB 52.1 MB/s \n",
            "\u001b[?25hRequirement already satisfied: protobuf<=3.20.1 in /usr/local/lib/python3.7/dist-packages (from pytorch-lightning) (3.17.3)\n",
            "Requirement already satisfied: tqdm>=4.57.0 in /usr/local/lib/python3.7/dist-packages (from pytorch-lightning) (4.64.0)\n",
            "Requirement already satisfied: torch>=1.8.* in /usr/local/lib/python3.7/dist-packages (from pytorch-lightning) (1.12.0+cu113)\n",
            "Requirement already satisfied: packaging>=17.0 in /usr/local/lib/python3.7/dist-packages (from pytorch-lightning) (21.3)\n",
            "Collecting PyYAML>=5.4\n",
            "  Downloading PyYAML-6.0-cp37-cp37m-manylinux_2_5_x86_64.manylinux1_x86_64.manylinux_2_12_x86_64.manylinux2010_x86_64.whl (596 kB)\n",
            "\u001b[K     |████████████████████████████████| 596 kB 29.8 MB/s \n",
            "\u001b[?25hCollecting fsspec[http]!=2021.06.0,>=2021.05.0\n",
            "  Downloading fsspec-2022.7.0-py3-none-any.whl (141 kB)\n",
            "\u001b[K     |████████████████████████████████| 141 kB 57.2 MB/s \n",
            "\u001b[?25hRequirement already satisfied: numpy>=1.17.2 in /usr/local/lib/python3.7/dist-packages (from pytorch-lightning) (1.21.6)\n",
            "Collecting pyDeprecate>=0.3.1\n",
            "  Downloading pyDeprecate-0.3.2-py3-none-any.whl (10 kB)\n",
            "Requirement already satisfied: tensorboard>=2.2.0 in /usr/local/lib/python3.7/dist-packages (from pytorch-lightning) (2.8.0)\n",
            "Requirement already satisfied: requests in /usr/local/lib/python3.7/dist-packages (from fsspec[http]!=2021.06.0,>=2021.05.0->pytorch-lightning) (2.23.0)\n",
            "Requirement already satisfied: aiohttp in /usr/local/lib/python3.7/dist-packages (from fsspec[http]!=2021.06.0,>=2021.05.0->pytorch-lightning) (3.8.1)\n",
            "Requirement already satisfied: pyparsing!=3.0.5,>=2.0.2 in /usr/local/lib/python3.7/dist-packages (from packaging>=17.0->pytorch-lightning) (3.0.9)\n",
            "Requirement already satisfied: six>=1.9 in /usr/local/lib/python3.7/dist-packages (from protobuf<=3.20.1->pytorch-lightning) (1.15.0)\n",
            "Requirement already satisfied: tensorboard-plugin-wit>=1.6.0 in /usr/local/lib/python3.7/dist-packages (from tensorboard>=2.2.0->pytorch-lightning) (1.8.1)\n",
            "Requirement already satisfied: tensorboard-data-server<0.7.0,>=0.6.0 in /usr/local/lib/python3.7/dist-packages (from tensorboard>=2.2.0->pytorch-lightning) (0.6.1)\n",
            "Requirement already satisfied: google-auth-oauthlib<0.5,>=0.4.1 in /usr/local/lib/python3.7/dist-packages (from tensorboard>=2.2.0->pytorch-lightning) (0.4.6)\n",
            "Requirement already satisfied: grpcio>=1.24.3 in /usr/local/lib/python3.7/dist-packages (from tensorboard>=2.2.0->pytorch-lightning) (1.47.0)\n",
            "Requirement already satisfied: werkzeug>=0.11.15 in /usr/local/lib/python3.7/dist-packages (from tensorboard>=2.2.0->pytorch-lightning) (1.0.1)\n",
            "Requirement already satisfied: setuptools>=41.0.0 in /usr/local/lib/python3.7/dist-packages (from tensorboard>=2.2.0->pytorch-lightning) (57.4.0)\n",
            "Requirement already satisfied: google-auth<3,>=1.6.3 in /usr/local/lib/python3.7/dist-packages (from tensorboard>=2.2.0->pytorch-lightning) (1.35.0)\n",
            "Requirement already satisfied: absl-py>=0.4 in /usr/local/lib/python3.7/dist-packages (from tensorboard>=2.2.0->pytorch-lightning) (1.2.0)\n",
            "Requirement already satisfied: wheel>=0.26 in /usr/local/lib/python3.7/dist-packages (from tensorboard>=2.2.0->pytorch-lightning) (0.37.1)\n",
            "Requirement already satisfied: markdown>=2.6.8 in /usr/local/lib/python3.7/dist-packages (from tensorboard>=2.2.0->pytorch-lightning) (3.4.1)\n",
            "Requirement already satisfied: cachetools<5.0,>=2.0.0 in /usr/local/lib/python3.7/dist-packages (from google-auth<3,>=1.6.3->tensorboard>=2.2.0->pytorch-lightning) (4.2.4)\n",
            "Requirement already satisfied: pyasn1-modules>=0.2.1 in /usr/local/lib/python3.7/dist-packages (from google-auth<3,>=1.6.3->tensorboard>=2.2.0->pytorch-lightning) (0.2.8)\n",
            "Requirement already satisfied: rsa<5,>=3.1.4 in /usr/local/lib/python3.7/dist-packages (from google-auth<3,>=1.6.3->tensorboard>=2.2.0->pytorch-lightning) (4.9)\n",
            "Requirement already satisfied: requests-oauthlib>=0.7.0 in /usr/local/lib/python3.7/dist-packages (from google-auth-oauthlib<0.5,>=0.4.1->tensorboard>=2.2.0->pytorch-lightning) (1.3.1)\n",
            "Requirement already satisfied: importlib-metadata>=4.4 in /usr/local/lib/python3.7/dist-packages (from markdown>=2.6.8->tensorboard>=2.2.0->pytorch-lightning) (4.12.0)\n",
            "Requirement already satisfied: zipp>=0.5 in /usr/local/lib/python3.7/dist-packages (from importlib-metadata>=4.4->markdown>=2.6.8->tensorboard>=2.2.0->pytorch-lightning) (3.8.1)\n",
            "Requirement already satisfied: pyasn1<0.5.0,>=0.4.6 in /usr/local/lib/python3.7/dist-packages (from pyasn1-modules>=0.2.1->google-auth<3,>=1.6.3->tensorboard>=2.2.0->pytorch-lightning) (0.4.8)\n",
            "Requirement already satisfied: urllib3!=1.25.0,!=1.25.1,<1.26,>=1.21.1 in /usr/local/lib/python3.7/dist-packages (from requests->fsspec[http]!=2021.06.0,>=2021.05.0->pytorch-lightning) (1.24.3)\n",
            "Requirement already satisfied: chardet<4,>=3.0.2 in /usr/local/lib/python3.7/dist-packages (from requests->fsspec[http]!=2021.06.0,>=2021.05.0->pytorch-lightning) (3.0.4)\n",
            "Requirement already satisfied: idna<3,>=2.5 in /usr/local/lib/python3.7/dist-packages (from requests->fsspec[http]!=2021.06.0,>=2021.05.0->pytorch-lightning) (2.10)\n",
            "Requirement already satisfied: certifi>=2017.4.17 in /usr/local/lib/python3.7/dist-packages (from requests->fsspec[http]!=2021.06.0,>=2021.05.0->pytorch-lightning) (2022.6.15)\n",
            "Requirement already satisfied: oauthlib>=3.0.0 in /usr/local/lib/python3.7/dist-packages (from requests-oauthlib>=0.7.0->google-auth-oauthlib<0.5,>=0.4.1->tensorboard>=2.2.0->pytorch-lightning) (3.2.0)\n",
            "Requirement already satisfied: multidict<7.0,>=4.5 in /usr/local/lib/python3.7/dist-packages (from aiohttp->fsspec[http]!=2021.06.0,>=2021.05.0->pytorch-lightning) (6.0.2)\n",
            "Requirement already satisfied: asynctest==0.13.0 in /usr/local/lib/python3.7/dist-packages (from aiohttp->fsspec[http]!=2021.06.0,>=2021.05.0->pytorch-lightning) (0.13.0)\n",
            "Requirement already satisfied: frozenlist>=1.1.1 in /usr/local/lib/python3.7/dist-packages (from aiohttp->fsspec[http]!=2021.06.0,>=2021.05.0->pytorch-lightning) (1.3.0)\n",
            "Requirement already satisfied: attrs>=17.3.0 in /usr/local/lib/python3.7/dist-packages (from aiohttp->fsspec[http]!=2021.06.0,>=2021.05.0->pytorch-lightning) (21.4.0)\n",
            "Requirement already satisfied: charset-normalizer<3.0,>=2.0 in /usr/local/lib/python3.7/dist-packages (from aiohttp->fsspec[http]!=2021.06.0,>=2021.05.0->pytorch-lightning) (2.1.0)\n",
            "Requirement already satisfied: aiosignal>=1.1.2 in /usr/local/lib/python3.7/dist-packages (from aiohttp->fsspec[http]!=2021.06.0,>=2021.05.0->pytorch-lightning) (1.2.0)\n",
            "Requirement already satisfied: yarl<2.0,>=1.0 in /usr/local/lib/python3.7/dist-packages (from aiohttp->fsspec[http]!=2021.06.0,>=2021.05.0->pytorch-lightning) (1.7.2)\n",
            "Requirement already satisfied: async-timeout<5.0,>=4.0.0a3 in /usr/local/lib/python3.7/dist-packages (from aiohttp->fsspec[http]!=2021.06.0,>=2021.05.0->pytorch-lightning) (4.0.2)\n",
            "Installing collected packages: fsspec, torchmetrics, PyYAML, pyDeprecate, pytorch-lightning\n",
            "  Attempting uninstall: PyYAML\n",
            "    Found existing installation: PyYAML 3.13\n",
            "    Uninstalling PyYAML-3.13:\n",
            "      Successfully uninstalled PyYAML-3.13\n",
            "Successfully installed PyYAML-6.0 fsspec-2022.7.0 pyDeprecate-0.3.2 pytorch-lightning-1.6.5 torchmetrics-0.9.3\n"
          ]
        }
      ]
    },
    {
      "cell_type": "code",
      "source": [
        "def y(x, m, b):\n",
        "  y_ary = m * x + b\n",
        "  std = 3. * np.random.randn(*y_ary.shape)\n",
        "  y_ary += std * np.random.randn(*y_ary.shape)\n",
        "  return y_ary, std\n",
        "\n",
        "n_points = 12\n",
        "\n",
        "x_ary = np.linspace(0, 1, n_points)\n",
        "y_ary = y(x_ary, 2., 3.)[0]\n",
        "\n",
        "plt.scatter(x_ary, y_ary)"
      ],
      "metadata": {
        "colab": {
          "base_uri": "https://localhost:8080/",
          "height": 283
        },
        "id": "NP5CT98JFbX7",
        "outputId": "49104b84-8f8e-476a-af70-30b32abf9045"
      },
      "execution_count": 222,
      "outputs": [
        {
          "output_type": "execute_result",
          "data": {
            "text/plain": [
              "<matplotlib.collections.PathCollection at 0x7f49ec5f2290>"
            ]
          },
          "metadata": {},
          "execution_count": 222
        },
        {
          "output_type": "display_data",
          "data": {
            "text/plain": [
              "<Figure size 432x288 with 1 Axes>"
            ],
            "image/png": "[encoded data removed]"
          },
          "metadata": {
            "needs_background": "light"
          }
        }
      ]
    },
    {
      "cell_type": "code",
      "source": [
        "from scipy.stats import uniform\n",
        "from tqdm import tqdm\n",
        "\n",
        "n_train = 10000\n",
        "\n",
        "theta_train = uniform.rvs(loc=-5, scale=10, size=(n_train, 2))\n",
        "y_std_train = np.array([y(x_ary, theta[0], theta[1]) for theta in tqdm(theta_train)])\n",
        "\n",
        "y_train = y_std_train[:, 0, :]\n",
        "std_train = y_std_train[:, 1, :]\n",
        "Cov_train = np.array([np.diag(std ** 2) for std in std_train])"
      ],
      "metadata": {
        "colab": {
          "base_uri": "https://localhost:8080/"
        },
        "id": "ZmqgglxRHqRS",
        "outputId": "00bf0107-446c-48e2-a242-c81b152e8153"
      },
      "execution_count": 248,
      "outputs": [
        {
          "output_type": "stream",
          "name": "stderr",
          "text": [
            "100%|██████████| 10000/10000 [00:00<00:00, 82604.72it/s]\n"
          ]
        }
      ]
    },
    {
      "cell_type": "code",
      "source": [
        "# import torch\n",
        "# import torch.nn as nn\n",
        "# import pytorch_lightning as pl\n",
        "# from pytorch_lightning.callbacks import ModelCheckpoint, LearningRateMonitor, EarlyStopping, StochasticWeightAveraging\n",
        "\n",
        "# from torch.utils.data import TensorDataset, DataLoader, random_split"
      ],
      "metadata": {
        "id": "vI2pkD5jI16Z"
      },
      "execution_count": 249,
      "outputs": []
    },
    {
      "cell_type": "code",
      "source": [
        "# theta_train = torch.Tensor(theta_train)\n",
        "# y_train = torch.Tensor(y_train)"
      ],
      "metadata": {
        "id": "5nTHEt5OI5M-"
      },
      "execution_count": 239,
      "outputs": []
    },
    {
      "cell_type": "code",
      "source": [
        "# batch_size = 64\n",
        "\n",
        "# val_fraction = 0.1\n",
        "# n_samples_val = int(val_fraction * len(y_train))\n",
        "\n",
        "# dataset = TensorDataset(theta_train, y_train)\n",
        "\n",
        "# dataset_train, dataset_val = random_split(dataset, [len(y_train) - n_samples_val, n_samples_val])\n",
        "# train_loader = DataLoader(dataset_train, batch_size=batch_size, num_workers=4, pin_memory=True, shuffle=True)\n",
        "# val_loader = DataLoader(dataset_val, batch_size=batch_size, num_workers=4, pin_memory=True, shuffle=False)\n"
      ],
      "metadata": {
        "id": "141Ddp0aJCLo"
      },
      "execution_count": 240,
      "outputs": []
    },
    {
      "cell_type": "code",
      "source": [
        "# def build_mlp(input_dim, hidden_dim, output_dim, layers, activation='relu'):\n",
        "#     \"\"\"Create a MLP from the configurations\n",
        "#     \"\"\"\n",
        "    \n",
        "#     activation = nn.ReLU\n",
        "\n",
        "#     seq = [nn.Linear(input_dim, hidden_dim), activation()]\n",
        "#     for _ in range(layers):\n",
        "#         seq += [nn.Linear(hidden_dim, hidden_dim), activation()]\n",
        "#     seq += [nn.Linear(hidden_dim, output_dim)]\n",
        "\n",
        "#     return nn.Sequential(*seq)\n"
      ],
      "metadata": {
        "id": "5DWge7W7JIv9"
      },
      "execution_count": 241,
      "outputs": []
    },
    {
      "cell_type": "code",
      "source": [
        "# class RegressionModel(pl.LightningModule):\n",
        "\n",
        "#     def __init__(self, optimizer=torch.optim.AdamW, \n",
        "#                          optimizer_kwargs={\"weight_decay\":1e-5}, \n",
        "#                          lr=3e-4, \n",
        "#                          scheduler=torch.optim.lr_scheduler.ReduceLROnPlateau,\n",
        "#                          scheduler_kwargs = {\"patience\":5}):\n",
        "#         super().__init__()\n",
        "        \n",
        "#         self.optimizer = optimizer\n",
        "#         self.optimizer_kwargs = optimizer_kwargs\n",
        "#         self.lr = lr\n",
        "        \n",
        "#         self.loss = nn.MSELoss()\n",
        "#         self.mlp = build_mlp(n_points, 128, 2, 3)\n",
        "        \n",
        "#     def forward(self, x):\n",
        "#         return self.mlp(x)\n",
        "        \n",
        "#     def configure_optimizers(self):\n",
        "#         optimizer = self.optimizer(self.parameters(), lr=self.lr, **self.optimizer_kwargs)\n",
        "        \n",
        "#         return {\"optimizer\": optimizer, \n",
        "#                 }\n",
        "            \n",
        "#     def training_step(self, batch, batch_idx):\n",
        "#         theta, x = batch\n",
        "#         theta_out = self(x)     \n",
        "#         loss = self.loss(theta_out, theta)\n",
        "#         self.log('train_loss', loss, on_epoch=True)\n",
        "#         return loss\n",
        "    \n",
        "#     def validation_step(self, batch, batch_idx):\n",
        "#         theta, x = batch\n",
        "#         theta_out = self(x)     \n",
        "#         loss = self.loss(theta_out, theta)\n",
        "#         self.log('val_loss', loss, on_epoch=True)\n",
        "#         return loss\n"
      ],
      "metadata": {
        "id": "pyu4f2q0JKYC"
      },
      "execution_count": 242,
      "outputs": []
    },
    {
      "cell_type": "code",
      "source": [
        "# model = RegressionModel()\n",
        "\n",
        "# max_epochs = 20\n",
        "\n",
        "# lr_monitor = LearningRateMonitor(logging_interval='epoch')\n",
        "\n",
        "# # Instantiate trainer\n",
        "# trainer = pl.Trainer(max_epochs=max_epochs, gradient_clip_val=0.5, callbacks=[lr_monitor])\n",
        "# trainer.fit(model=model, train_dataloaders=train_loader)  "
      ],
      "metadata": {
        "id": "HVm-b11ZJMUT"
      },
      "execution_count": 243,
      "outputs": []
    },
    {
      "cell_type": "code",
      "source": [
        "# n_test = 100\n",
        "\n",
        "# theta_test = uniform.rvs(loc=-5, scale=10, size=(n_test, 2))\n",
        "# y_test = np.array([y(x_ary, theta[0], theta[1]) for theta in tqdm(theta_test)])\n",
        "\n",
        "# theta_test = torch.Tensor(theta_test)\n",
        "# y_test = torch.Tensor(y_test)"
      ],
      "metadata": {
        "id": "3k287J4nJ9Z_"
      },
      "execution_count": 244,
      "outputs": []
    },
    {
      "cell_type": "code",
      "source": [
        "# plt.scatter(theta_test[:64][:, 0].detach().numpy(), model(y_test[:64])[:, 0].detach().numpy())"
      ],
      "metadata": {
        "id": "dSshJ2mjJPAO"
      },
      "execution_count": 245,
      "outputs": []
    },
    {
      "cell_type": "code",
      "source": [
        "# plt.scatter(theta_test[:64][:, 1].detach().numpy(), model(y_test[:64])[:, 1].detach().numpy())"
      ],
      "metadata": {
        "id": "KtvBz3SdJa-8"
      },
      "execution_count": 246,
      "outputs": []
    },
    {
      "cell_type": "markdown",
      "source": [
        "## Jax"
      ],
      "metadata": {
        "id": "c03gNjJrPLNy"
      }
    },
    {
      "cell_type": "code",
      "source": [
        "! pip install flax"
      ],
      "metadata": {
        "colab": {
          "base_uri": "https://localhost:8080/"
        },
        "id": "Cm-5HW2HPSSr",
        "outputId": "9acf968e-8159-4a77-d8b9-0ed363069080"
      },
      "execution_count": null,
      "outputs": [
        {
          "output_type": "stream",
          "name": "stdout",
          "text": [
            "Looking in indexes: https://pypi.org/simple, https://us-python.pkg.dev/colab-wheels/public/simple/\n",
            "Collecting flax\n",
            "  Downloading flax-0.5.3-py3-none-any.whl (202 kB)\n",
            "\u001b[K     |████████████████████████████████| 202 kB 4.8 MB/s \n",
            "\u001b[?25hCollecting optax\n",
            "  Downloading optax-0.1.3-py3-none-any.whl (145 kB)\n",
            "\u001b[K     |████████████████████████████████| 145 kB 52.4 MB/s \n",
            "\u001b[?25hRequirement already satisfied: matplotlib in /usr/local/lib/python3.7/dist-packages (from flax) (3.2.2)\n",
            "Requirement already satisfied: typing-extensions>=4.1.1 in /usr/local/lib/python3.7/dist-packages (from flax) (4.1.1)\n",
            "Collecting rich~=11.1\n",
            "  Downloading rich-11.2.0-py3-none-any.whl (217 kB)\n",
            "\u001b[K     |████████████████████████████████| 217 kB 50.9 MB/s \n",
            "\u001b[?25hRequirement already satisfied: PyYAML>=5.4.1 in /usr/local/lib/python3.7/dist-packages (from flax) (6.0)\n",
            "Requirement already satisfied: jax>=0.3.2 in /usr/local/lib/python3.7/dist-packages (from flax) (0.3.14)\n",
            "Collecting tensorstore\n",
            "  Downloading tensorstore-0.1.21-cp37-cp37m-manylinux_2_17_x86_64.manylinux2014_x86_64.whl (9.1 MB)\n",
            "\u001b[K     |████████████████████████████████| 9.1 MB 37.5 MB/s \n",
            "\u001b[?25hRequirement already satisfied: numpy>=1.12 in /usr/local/lib/python3.7/dist-packages (from flax) (1.21.6)\n",
            "Requirement already satisfied: msgpack in /usr/local/lib/python3.7/dist-packages (from flax) (1.0.4)\n",
            "Requirement already satisfied: absl-py in /usr/local/lib/python3.7/dist-packages (from jax>=0.3.2->flax) (1.2.0)\n",
            "Requirement already satisfied: etils[epath] in /usr/local/lib/python3.7/dist-packages (from jax>=0.3.2->flax) (0.6.0)\n",
            "Requirement already satisfied: opt-einsum in /usr/local/lib/python3.7/dist-packages (from jax>=0.3.2->flax) (3.3.0)\n",
            "Requirement already satisfied: scipy>=1.5 in /usr/local/lib/python3.7/dist-packages (from jax>=0.3.2->flax) (1.7.3)\n",
            "Collecting colorama<0.5.0,>=0.4.0\n",
            "  Downloading colorama-0.4.5-py2.py3-none-any.whl (16 kB)\n",
            "Requirement already satisfied: pygments<3.0.0,>=2.6.0 in /usr/local/lib/python3.7/dist-packages (from rich~=11.1->flax) (2.6.1)\n",
            "Collecting commonmark<0.10.0,>=0.9.0\n",
            "  Downloading commonmark-0.9.1-py2.py3-none-any.whl (51 kB)\n",
            "\u001b[K     |████████████████████████████████| 51 kB 6.1 MB/s \n",
            "\u001b[?25hRequirement already satisfied: zipp in /usr/local/lib/python3.7/dist-packages (from etils[epath]->jax>=0.3.2->flax) (3.8.1)\n",
            "Requirement already satisfied: importlib_resources in /usr/local/lib/python3.7/dist-packages (from etils[epath]->jax>=0.3.2->flax) (5.9.0)\n",
            "Requirement already satisfied: pyparsing!=2.0.4,!=2.1.2,!=2.1.6,>=2.0.1 in /usr/local/lib/python3.7/dist-packages (from matplotlib->flax) (3.0.9)\n",
            "Requirement already satisfied: cycler>=0.10 in /usr/local/lib/python3.7/dist-packages (from matplotlib->flax) (0.11.0)\n",
            "Requirement already satisfied: python-dateutil>=2.1 in /usr/local/lib/python3.7/dist-packages (from matplotlib->flax) (2.8.2)\n",
            "Requirement already satisfied: kiwisolver>=1.0.1 in /usr/local/lib/python3.7/dist-packages (from matplotlib->flax) (1.4.4)\n",
            "Requirement already satisfied: six>=1.5 in /usr/local/lib/python3.7/dist-packages (from python-dateutil>=2.1->matplotlib->flax) (1.15.0)\n",
            "Requirement already satisfied: jaxlib>=0.1.37 in /usr/local/lib/python3.7/dist-packages (from optax->flax) (0.3.14+cuda11.cudnn805)\n",
            "Collecting chex>=0.0.4\n",
            "  Downloading chex-0.1.3-py3-none-any.whl (72 kB)\n",
            "\u001b[K     |████████████████████████████████| 72 kB 517 kB/s \n",
            "\u001b[?25hRequirement already satisfied: dm-tree>=0.1.5 in /usr/local/lib/python3.7/dist-packages (from chex>=0.0.4->optax->flax) (0.1.7)\n",
            "Requirement already satisfied: toolz>=0.9.0 in /usr/local/lib/python3.7/dist-packages (from chex>=0.0.4->optax->flax) (0.12.0)\n",
            "Requirement already satisfied: flatbuffers<3.0,>=1.12 in /usr/local/lib/python3.7/dist-packages (from jaxlib>=0.1.37->optax->flax) (2.0)\n",
            "Installing collected packages: commonmark, colorama, chex, tensorstore, rich, optax, flax\n",
            "Successfully installed chex-0.1.3 colorama-0.4.5 commonmark-0.9.1 flax-0.5.3 optax-0.1.3 rich-11.2.0 tensorstore-0.1.21\n"
          ]
        }
      ]
    },
    {
      "cell_type": "code",
      "source": [
        "import jax\n",
        "from typing import Any, Callable, Sequence\n",
        "from jax import lax, random, vmap, jit, numpy as jnp\n",
        "from flax.core import freeze, unfreeze\n",
        "from flax import linen as nn\n",
        "from jax.scipy.special import erf, erfc, gammainc, gammaln"
      ],
      "metadata": {
        "id": "KV3ut-EbPMxM"
      },
      "execution_count": null,
      "outputs": []
    },
    {
      "cell_type": "code",
      "source": [
        "import tensorflow as tf\n",
        "import tensorflow_datasets as tfds"
      ],
      "metadata": {
        "id": "9dLFPcu4R2BE"
      },
      "execution_count": null,
      "outputs": []
    },
    {
      "cell_type": "code",
      "source": [
        "def NR(z):\n",
        "  return jnp.exp(-z ** 2 / 2) / (jnp.sqrt(2 * np.pi)) + z / 2 * (1 + erf(z / jnp.sqrt(2)))\n",
        "\n",
        "def activation_layers(W, b, x, Cov):\n",
        "\n",
        "  sigma = jnp.sqrt(W.T @ Cov @ W)\n",
        "  mu = (W.T @ x + b)\n",
        "  act = sigma * NR(mu / sigma)\n",
        "  return act\n",
        "\n",
        "class DenceUncertainties(nn.Module):\n",
        "  features: int\n",
        "  W_init: Callable = nn.initializers.lecun_normal()\n",
        "  b_init: Callable = nn.initializers.zeros\n",
        "\n",
        "  @nn.compact\n",
        "  def __call__(self, x, Cov):\n",
        "\n",
        "    W = self.param('W', self.W_init, (x.shape[-1], self.features)) \n",
        "    b = self.param('b', self.b_init, (self.features,))\n",
        "\n",
        "    activation_layers_vmapped = vmap(activation_layers, in_axes=(1,0,None,None))\n",
        "    activation_layers_vmapped_batched = vmap(activation_layers_vmapped, (None,None,0,0))  # vmap along batch dim\n",
        "    act = activation_layers_vmapped_batched(W, b, x, Cov)\n",
        "    return act\n",
        "\n",
        "class Dense(nn.Module):\n",
        "  features: int\n",
        "  W_init: Callable = nn.initializers.lecun_normal()\n",
        "  b_init: Callable = nn.initializers.zeros\n",
        "\n",
        "  @nn.compact\n",
        "  def __call__(self, x):\n",
        "\n",
        "    W = self.param('W', self.W_init, (x.shape[-1], self.features)) \n",
        "    b = self.param('b', self.b_init, (self.features,))\n",
        "\n",
        "    def activation_layers(W, b, x):\n",
        "      mu = (W.T @ x + b)\n",
        "      return mu\n",
        "\n",
        "    activation_layers_batched = vmap(activation_layers, (None,None,0))  # vmap along batch dim\n",
        "    act = activation_layers_batched(W, b, x)\n",
        "    return act"
      ],
      "metadata": {
        "id": "SqYVS27MQL-i"
      },
      "execution_count": 638,
      "outputs": []
    },
    {
      "cell_type": "code",
      "source": [
        "class SimpleMLP(nn.Module):\n",
        "  features: Sequence[int]\n",
        "\n",
        "  @nn.compact\n",
        "  def __call__(self, x, Cov):\n",
        "    x = DenceUncertainties(64, name=f'layers_unc')(x, Cov)\n",
        "    for i, feat in enumerate(self.features):\n",
        "      x = Dense(feat, name=f'layers_{i}')(x)\n",
        "      if i != len(self.features) - 1:\n",
        "        x = nn.relu(x)\n",
        "    return x\n",
        "\n",
        "# # Same as JAX version but using model.apply().\n",
        "# @jax.jit\n",
        "# def mse(params, x_batched, y_batched, Cov_batched):\n",
        "#   # Define the squared loss for a single pair (x,y)\n",
        "#   def squared_error(x, y, Cov):\n",
        "#     pred = model.apply(params, x, Cov)\n",
        "#     return jnp.inner(y-pred, y-pred) / 2.0\n",
        "#   # Vectorize the previous to compute the average of the loss on all samples.\n",
        "#   return jnp.mean(jax.vmap(squared_error)(x_batched, y_batched, Cov_batched), axis=0)\n",
        "\n",
        "# Same as JAX version but using model.apply().\n",
        "@jax.jit\n",
        "def mse(params, x_batched, y_batched, Cov_batched):\n",
        "  # Define the squared loss for a single pair (x,y)\n",
        "  pred = model.apply(params, x_batched, Cov_batched)\n",
        "  loss = jnp.mean((y_batched - pred) ** 2 / 2.0)\n",
        "  return loss\n"
      ],
      "metadata": {
        "id": "GyhQGHhRJgch"
      },
      "execution_count": 639,
      "outputs": []
    },
    {
      "cell_type": "code",
      "source": [
        "y_train = jnp.array(y_train)\n",
        "theta_train = jnp.array(theta_train)\n",
        "Cov_train = jnp.array(Cov_train)"
      ],
      "metadata": {
        "id": "mwE_a17yari3"
      },
      "execution_count": 640,
      "outputs": []
    },
    {
      "cell_type": "code",
      "source": [
        "key1, key2 = random.split(random.PRNGKey(0), 2)\n",
        "\n",
        "model = SimpleMLP(features=[64,64,64,2])\n",
        "params = model.init(key2, y_train, Cov_train)\n",
        "y = model.apply(params, y_train, Cov_train)\n",
        "y.shape"
      ],
      "metadata": {
        "colab": {
          "base_uri": "https://localhost:8080/"
        },
        "id": "i3ZvgrsuccsP",
        "outputId": "74ae213d-aa3d-4273-8357-d2228642be03"
      },
      "execution_count": 641,
      "outputs": [
        {
          "output_type": "execute_result",
          "data": {
            "text/plain": [
              "(10000, 2)"
            ]
          },
          "metadata": {},
          "execution_count": 641
        }
      ]
    },
    {
      "cell_type": "code",
      "source": [
        "# key1, key2 = random.split(random.PRNGKey(0), 2)\n",
        "\n",
        "# model = SimpleMLP(features=[4,4,4,2])\n",
        "# params = model.init(key2, y_train)\n",
        "# y = model.apply(params, y_train)"
      ],
      "metadata": {
        "id": "cqU7nfzRPVPC"
      },
      "execution_count": 642,
      "outputs": []
    },
    {
      "cell_type": "code",
      "source": [
        "import optax\n",
        "\n",
        "learning_rate = 1e-3\n",
        "\n",
        "tx = optax.sgd(learning_rate=learning_rate)\n",
        "opt_state = tx.init(params)\n",
        "loss_grad_fn = jax.value_and_grad(mse)"
      ],
      "metadata": {
        "id": "OpsMzLRoPm6h"
      },
      "execution_count": 643,
      "outputs": []
    },
    {
      "cell_type": "code",
      "source": [
        "batch_size = 64\n",
        "\n",
        "train_ds = tf.data.Dataset.from_tensor_slices((y_train, theta_train, Cov_train))\n",
        "train_ds = train_ds.cache()\n",
        "train_ds = train_ds.repeat()\n",
        "train_ds = train_ds.shuffle(n_train)\n",
        "train_ds = train_ds.batch(batch_size)\n",
        "train_ds = iter(tfds.as_numpy(train_ds))"
      ],
      "metadata": {
        "id": "EZmJiLcHVkor"
      },
      "execution_count": 644,
      "outputs": []
    },
    {
      "cell_type": "code",
      "source": [
        "num_epochs = 30\n",
        "\n",
        "steps_per_epoch = n_train // batch_size\n",
        "\n",
        "for epoch in range(num_epochs):\n",
        "  for i_step in range(steps_per_epoch):\n",
        "    y, theta, Cov = next(train_ds)\n",
        "    loss_val, grads = loss_grad_fn(params, y, theta, Cov)\n",
        "    updates, opt_state = tx.update(grads, opt_state)\n",
        "    params = optax.apply_updates(params, updates)\n",
        "  print('Loss step {}: '.format(epoch), loss_val)"
      ],
      "metadata": {
        "colab": {
          "base_uri": "https://localhost:8080/"
        },
        "id": "9UsE6rzOV6d5",
        "outputId": "0b57b6b9-b67f-4424-d044-50e915b55d58"
      },
      "execution_count": 645,
      "outputs": [
        {
          "output_type": "stream",
          "name": "stdout",
          "text": [
            "Loss step 0:  2.4380095\n",
            "Loss step 1:  1.5180566\n",
            "Loss step 2:  1.3395538\n",
            "Loss step 3:  1.00679\n",
            "Loss step 4:  1.5437574\n",
            "Loss step 5:  1.270516\n",
            "Loss step 6:  1.3162409\n",
            "Loss step 7:  1.1908454\n",
            "Loss step 8:  1.076488\n",
            "Loss step 9:  0.989335\n",
            "Loss step 10:  1.1101497\n",
            "Loss step 11:  1.1709343\n",
            "Loss step 12:  1.0378865\n",
            "Loss step 13:  0.97747487\n",
            "Loss step 14:  1.4135041\n",
            "Loss step 15:  0.9138478\n",
            "Loss step 16:  1.1010258\n",
            "Loss step 17:  1.0695658\n",
            "Loss step 18:  1.3084995\n",
            "Loss step 19:  1.384311\n",
            "Loss step 20:  1.0280397\n",
            "Loss step 21:  1.6014283\n",
            "Loss step 22:  1.3921577\n",
            "Loss step 23:  1.3539805\n",
            "Loss step 24:  1.116472\n",
            "Loss step 25:  1.352215\n",
            "Loss step 26:  1.3745837\n",
            "Loss step 27:  1.0809611\n",
            "Loss step 28:  1.2591331\n",
            "Loss step 29:  1.3514347\n"
          ]
        }
      ]
    },
    {
      "cell_type": "code",
      "source": [
        "response_test = model.apply(params, y_train, Cov_train)"
      ],
      "metadata": {
        "id": "H7HwxXkyWLK9"
      },
      "execution_count": 646,
      "outputs": []
    },
    {
      "cell_type": "code",
      "source": [
        "n_plot = 128\n",
        "plt.scatter(theta_train[:n_plot, 0], response_test[:n_plot, 0])"
      ],
      "metadata": {
        "colab": {
          "base_uri": "https://localhost:8080/",
          "height": 283
        },
        "id": "80y43FHcYw9j",
        "outputId": "1091cd3f-612f-4ca8-eabd-af922bf07e25"
      },
      "execution_count": 647,
      "outputs": [
        {
          "output_type": "execute_result",
          "data": {
            "text/plain": [
              "<matplotlib.collections.PathCollection at 0x7f49ec18c450>"
            ]
          },
          "metadata": {},
          "execution_count": 647
        },
        {
          "output_type": "display_data",
          "data": {
            "text/plain": [
              "<Figure size 432x288 with 1 Axes>"
            ],
            "image/png": "[encoded data removed]"
          },
          "metadata": {
            "needs_background": "light"
          }
        }
      ]
    },
    {
      "cell_type": "code",
      "source": [
        "plt.scatter(theta_train[:n_plot, 1], response_test[:n_plot, 1])"
      ],
      "metadata": {
        "colab": {
          "base_uri": "https://localhost:8080/",
          "height": 283
        },
        "id": "4iexY7kAY3n7",
        "outputId": "d3ae4ae2-f4bd-4c84-ed71-6c43f4291e22"
      },
      "execution_count": 648,
      "outputs": [
        {
          "output_type": "execute_result",
          "data": {
            "text/plain": [
              "<matplotlib.collections.PathCollection at 0x7f49ec0ed350>"
            ]
          },
          "metadata": {},
          "execution_count": 648
        },
        {
          "output_type": "display_data",
          "data": {
            "text/plain": [
              "<Figure size 432x288 with 1 Axes>"
            ],
            "image/png": "[encoded data removed]"
          },
          "metadata": {
            "needs_background": "light"
          }
        }
      ]
    },
    {
      "cell_type": "code",
      "source": [
        ""
      ],
      "metadata": {
        "id": "ncUzsUHeY6fS"
      },
      "execution_count": null,
      "outputs": []
    }
  ]
}